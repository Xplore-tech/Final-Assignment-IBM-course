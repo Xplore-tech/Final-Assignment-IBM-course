{
 "cells": [
  {
   "cell_type": "markdown",
   "id": "ff60a21e-a9e3-43f4-b4db-44cae55664c2",
   "metadata": {},
   "source": [
    "# My Jupyter Notebook on IBM Watson Studio"
   ]
  },
  {
   "cell_type": "markdown",
   "id": "1dac031c-e3f6-46d3-9da0-fc9346e781b1",
   "metadata": {},
   "source": [
    "## **Shuaib Abdulmujeeb**\n",
    "### Data Scientist"
   ]
  },
  {
   "cell_type": "markdown",
   "id": "a57daf7d-7320-4c5d-b992-ce0a20327ea6",
   "metadata": {},
   "source": [
    "### *I am interested in data science because i love the way data is used to solve business problems and predict future outcomes*"
   ]
  },
  {
   "cell_type": "markdown",
   "id": "020fc0b2-43b7-4d82-aa6a-de90fe69e71f",
   "metadata": {},
   "source": [
    "### The codes in the next cell will assign values to two variables and add them together"
   ]
  },
  {
   "cell_type": "code",
   "execution_count": 3,
   "id": "29352205-c86b-437e-a58e-1eec7c3af524",
   "metadata": {},
   "outputs": [
    {
     "name": "stdout",
     "output_type": "stream",
     "text": [
      "15\n"
     ]
    }
   ],
   "source": [
    "x = 7\n",
    "y = 8\n",
    "\n",
    "print(x + y)"
   ]
  },
  {
   "cell_type": "markdown",
   "id": "3e31cd0e-f0f4-497f-9cb2-d6ebec12ac39",
   "metadata": {},
   "source": [
    "<ul>\n",
    "<li>One</li>\n",
    "<li>Two</li>\n",
    "<li>Three</li>\n",
    "</ul>\n",
    "\n",
    "<ol>\n",
    "<li>Coffee</li>\n",
    "<li>Milk</li>\n",
    "<li>Tea</li>\n",
    "</ol>\n",
    "\n",
    "<a href= \"www.ibm.com\">Click here to view"
   ]
  }
 ],
 "metadata": {
  "kernelspec": {
   "display_name": "Python",
   "language": "python",
   "name": "conda-env-python-py"
  },
  "language_info": {
   "codemirror_mode": {
    "name": "ipython",
    "version": 3
   },
   "file_extension": ".py",
   "mimetype": "text/x-python",
   "name": "python",
   "nbconvert_exporter": "python",
   "pygments_lexer": "ipython3",
   "version": "3.7.12"
  }
 },
 "nbformat": 4,
 "nbformat_minor": 5
}
